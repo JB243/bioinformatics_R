{
 "cells": [
  {
   "cell_type": "markdown",
   "id": "e3e98428-acb3-41a4-b208-38fe04c78b98",
   "metadata": {},
   "source": [
    "* Overview"
   ]
  },
  {
   "cell_type": "code",
   "execution_count": 11,
   "id": "e5d42c4e-a2fd-4c06-849b-9f18d8151770",
   "metadata": {},
   "outputs": [],
   "source": [
    "# The functions defined below can be used as follows.\n",
    "\n",
    "sum <- function(a, b){\n",
    "    return (a + b)\n",
    "}\n",
    "\n",
    "A <- 1\n",
    "B <- 2\n",
    "print(sum(A, B))\n",
    "# 3"
   ]
  },
  {
   "cell_type": "markdown",
   "id": "c070ded6-db02-4520-900e-13535cf04b27",
   "metadata": {},
   "source": [
    "* Vector and Matrix Calculation"
   ]
  },
  {
   "cell_type": "code",
   "execution_count": 12,
   "id": "1b7c7b69-0d11-407c-a9e1-76c7c6d86a48",
   "metadata": {},
   "outputs": [],
   "source": [
    "# Whether a given string (given_str) contains a particular string (partial_str): grepl \n",
    "# refer to https://stackoverflow.com/questions/10128617/test-if-characters-are-in-a-string\n",
    "\n",
    "partial_str = \"A\"\n",
    "given_str = \"ABC\"\n",
    "\n",
    "grepl(partial_str, given_str, fixed = TRUE)"
   ]
  },
  {
   "cell_type": "code",
   "execution_count": 13,
   "id": "7effda76-735f-4dc6-9286-b6f019b6e8e9",
   "metadata": {},
   "outputs": [],
   "source": [
    "# An index output containing a particular string (str) from a given string vector (arr)\n",
    "\n",
    "has_string_arr <- function(str, arr){\n",
    "    flag <- 0\n",
    "    ar <- array()\n",
    "    for(i in 1:length(arr)){\n",
    "        if( grepl(str, arr[i], fixed=TRUE) ){\n",
    "            flag <- flag + 1\n",
    "            ar[flag] <- i\n",
    "        }\n",
    "    }\n",
    "    return(ar)\n",
    "}"
   ]
  },
  {
   "cell_type": "code",
   "execution_count": 14,
   "id": "66fe50c5-44bf-4366-a09a-75b58c98a9b8",
   "metadata": {},
   "outputs": [],
   "source": [
    "# Intersection of three vectors\n",
    "\n",
    "tri_intersect <- function(A, B, C){\n",
    "    a <- intersect(A, B)\n",
    "    b <- intersect(a, C)\n",
    "    return(b)\n",
    "}"
   ]
  },
  {
   "cell_type": "code",
   "execution_count": 15,
   "id": "6cb20776-96f5-4b35-917f-2015bd9baa82",
   "metadata": {},
   "outputs": [],
   "source": [
    "# A function that converts the NA portion of a given vector into zero\n",
    "\n",
    "trim_na <- function(vector){\n",
    "  for(i in 1: length(vector)){\n",
    "    if(is.na(vector[i])){\n",
    "      vector[i] = 0\n",
    "    }\n",
    "  }\n",
    "  return (vector)\n",
    "}"
   ]
  },
  {
   "cell_type": "code",
   "execution_count": 16,
   "id": "bb70a926-d5ef-4f2a-ae12-29649822d538",
   "metadata": {},
   "outputs": [],
   "source": [
    "# A function that excludes the NA portion of a given vector\n",
    "\n",
    "ignore_na <- function(vector){\n",
    "  flag = 0\n",
    "  ar = array()\n",
    "  for(i in 1: length(vector)){\n",
    "    if(! is.na(vector[i])){\n",
    "      flag = flag + 1\n",
    "      ar[flag] = vector[i]\n",
    "    }\n",
    "  }\n",
    "  return (ar)\n",
    "}"
   ]
  },
  {
   "cell_type": "code",
   "execution_count": 17,
   "id": "07f6273c-68de-4f04-a497-7ca1cfcf500e",
   "metadata": {},
   "outputs": [],
   "source": [
    "# A function that returns the left corner of a matrix or data frame\n",
    "\n",
    "corner <- function(x, num = 10){\n",
    "  return(x[1:min(  num, dim(x)[1]  ), \n",
    "           1:min(  num, dim(x)[2]  )])\n",
    "}"
   ]
  },
  {
   "cell_type": "code",
   "execution_count": 18,
   "id": "edbeff2e-205d-4e8c-8352-d5c0fa79bf6e",
   "metadata": {},
   "outputs": [],
   "source": [
    "# A function that outputs cbind when given any two matrices\n",
    "\n",
    "my.cbind <- function(data1, data2){\n",
    "  a <- intersect(rownames(data1), rownames(data2))\n",
    "  return (cbind(data1[a, ], data2[a, ]))\n",
    "}"
   ]
  },
  {
   "cell_type": "code",
   "execution_count": 19,
   "id": "927849ac-48fb-41cc-b0f3-bbf9a5343cca",
   "metadata": {},
   "outputs": [],
   "source": [
    "# A function that outputs rbind when given any two matrices\n",
    "\n",
    "my.rbind <- function(data1, data2){\n",
    "  a <- intersect(colnames(data1), colnames(data2))\n",
    "  return (rbind(data1[, a], data2[, a]))\n",
    "}"
   ]
  },
  {
   "cell_type": "markdown",
   "id": "74fe8842-be86-4b20-b2e2-82c5f06b7ac0",
   "metadata": {},
   "source": [
    "* gsub Use"
   ]
  },
  {
   "cell_type": "code",
   "execution_count": 20,
   "id": "f6bb915a-4ae1-4e50-b2a3-f6c94010027e",
   "metadata": {},
   "outputs": [],
   "source": [
    "# A function that removes the hyphen (-) from a given string\n",
    "\n",
    "eliminate_hyphene <- function(str){\n",
    "    return(gsub(\"-\", \"\", str))\n",
    "}"
   ]
  },
  {
   "cell_type": "code",
   "execution_count": 21,
   "id": "836aa919-2bd5-442b-b1dc-cfd6f7c59924",
   "metadata": {},
   "outputs": [],
   "source": [
    "# A function of removing special symbols such as \"(\") from a given string\n",
    "# refer to https://stackoverflow.com/questions/49681952/removing-replacing-brackets-from-r-string-using-gsub\n",
    "\n",
    "eliminate_symbol <- function(str){\n",
    "    return(gsub(\"(\", \"\", str, fixed = TRUE))\n",
    "}"
   ]
  },
  {
   "cell_type": "code",
   "execution_count": 22,
   "id": "165085f4-229d-4187-ae76-446591df831e",
   "metadata": {},
   "outputs": [],
   "source": [
    "# A function that removes all characters after x and x from a given string\n",
    "\n",
    "eliminate_backward <- function(str){\n",
    "    return(gsub('x.*$', '', str))\n",
    "}"
   ]
  },
  {
   "cell_type": "code",
   "execution_count": 23,
   "id": "db89bbb6-4ba3-48e9-969c-eccb7c69138b",
   "metadata": {},
   "outputs": [],
   "source": [
    "# A function that removes all characters after \";\" and \";\" from a given string \n",
    "# refer to https://www.tutorialspoint.com/how-to-remove-dot-and-number-at-the-end-of-the-string-in-an-r-vector\n",
    "\n",
    "eliminate_backward <- function(str){\n",
    "    return(gsub('\\\\;.*$', '', str))\n",
    "}"
   ]
  },
  {
   "cell_type": "code",
   "execution_count": 24,
   "id": "42a056b3-08e8-46e1-8afe-316c8b02823e",
   "metadata": {},
   "outputs": [],
   "source": [
    "# A function that removes all characters before x and x from a given string\n",
    "\n",
    "eliminate_forward <- function(str){\n",
    "    return(gsub('.*x', '', str))\n",
    "}"
   ]
  },
  {
   "cell_type": "markdown",
   "id": "68ad3d17-476d-4e06-bc18-cf9a024b3752",
   "metadata": {},
   "source": [
    "* Statistical Analysis"
   ]
  },
  {
   "cell_type": "code",
   "execution_count": 25,
   "id": "7e283394-7505-4b8c-b5af-d2cb9db76452",
   "metadata": {},
   "outputs": [],
   "source": [
    "# A value obtained by taking log10 for n!\n",
    "\n",
    "log10_factorial <- function(n){\n",
    "  if(n == 0){\n",
    "    return(0)\n",
    "  }\n",
    "\n",
    "  out <- 0\n",
    "  for(i in 1 : n){\n",
    "    out <- out + log(i) / log(10)\n",
    "  }\n",
    "  return(out)\n",
    "}"
   ]
  },
  {
   "cell_type": "code",
   "execution_count": 26,
   "id": "5d85ddfc-8df1-49ff-bdbf-0d6c649b9291",
   "metadata": {},
   "outputs": [],
   "source": [
    "# A function to obtain the binomial coefficient nCk, which is the number of cases where k out of n is taken out: \n",
    "# simply using factorials, Inf can float, thus improving the code.\n",
    "\n",
    "my.combination <- function(n, k){\n",
    "  # return nCk = n! / ((n-k)! k!)\n",
    "  \n",
    "  if (n == k || n == 0 || k == 0){\n",
    "    return(1)\n",
    "  }\n",
    "\n",
    "  A = log10_factorial(n)\n",
    "  B = log10_factorial(n-k)\n",
    "  C = log10_factorial(k)\n",
    "  \n",
    "  log10_nCk = A - B - C\n",
    "  return(10^(log10_nCk))\n",
    "}"
   ]
  },
  {
   "cell_type": "code",
   "execution_count": 27,
   "id": "ddf68216-6a1f-496c-ba33-5356595ca755",
   "metadata": {},
   "outputs": [],
   "source": [
    "# Two-group test\n",
    "\n",
    "v1 = c(1,2,3)\n",
    "v2 = c(4,5,6)\n",
    "       \n",
    "t.test(v1, v2, paired = FALSE)\n",
    "# maybe you can activate 'paired' in a special condition"
   ]
  },
  {
   "cell_type": "code",
   "execution_count": 28,
   "id": "4c8c5501-5f6a-4e32-8e0e-1832d7f9178b",
   "metadata": {},
   "outputs": [],
   "source": [
    "# Two groups of ANOVA test\n",
    "\n",
    "one_way_2_factor_anova <- function(v1, v2){\n",
    "  dat <- matrix(0, nrow = ( length(v1) + length(v2) ), ncol = 2 )\n",
    "  for(i in 1 : length(v1) ){\n",
    "    dat[i, 1] <- v1[i]\n",
    "    dat[i, 2] <- 'v1'\n",
    "  }\n",
    "  for(i in 1 : length(v2) ){\n",
    "    dat[i + length(v1), 1] <- v2[i]\n",
    "    dat[i + length(v1), 2] <- 'v2'\n",
    "  }\n",
    "  dat <- as.data.frame(dat)\n",
    "  \n",
    "  colnames(dat) <- c('val', 'factor')\n",
    "\n",
    "  anova_IS <- aov(val ~ factor, data = dat)\n",
    "  print(summary(anova_IS))\n",
    "\n",
    "  anova_residuals <- anova_IS$residuals\n",
    "  print(summary(anova_residuals))\n",
    "}"
   ]
  },
  {
   "cell_type": "code",
   "execution_count": 29,
   "id": "8cc03536-fb33-4a3d-9c92-c68922419a7a",
   "metadata": {},
   "outputs": [],
   "source": [
    "# Three groups of ANOVA test\n",
    "\n",
    "one_way_3_factor_anova <- function(v1, v2, v3){\n",
    "  dat <- matrix(0, nrow = ( length(v1) + length(v2) + length(v3) ), ncol = 2 )\n",
    "  for(i in 1 : length(v1) ){\n",
    "    dat[i, 1] <- v1[i]\n",
    "    dat[i, 2] <- 'v1'\n",
    "  }\n",
    "  for(i in 1 : length(v2) ){\n",
    "    dat[i + length(v1), 1] <- v2[i]\n",
    "    dat[i + length(v1), 2] <- 'v2'\n",
    "  }\n",
    "  for(i in 1 : length(v3) ){\n",
    "    dat[i + length(v1) + length(v2), 1] <- v3[i]\n",
    "    dat[i + length(v1) + length(v2), 2] <- 'v3'\n",
    "  }\n",
    "  dat <- as.data.frame(dat)\n",
    "  \n",
    "  colnames(dat) <- c('val', 'factor')\n",
    "\n",
    "  anova_IS <- aov(val ~ factor, data = dat)\n",
    "  print(summary(anova_IS))\n",
    "\n",
    "  anova_residuals <- anova_IS$residuals\n",
    "  print(summary(anova_residuals))\n",
    "}"
   ]
  },
  {
   "cell_type": "code",
   "execution_count": 30,
   "id": "7dd7e40b-5105-4c32-90f5-b28b56a2fec4",
   "metadata": {},
   "outputs": [],
   "source": [
    "# Acquisition of  FC, p value from two vectors\n",
    "\n",
    "comparison_of_two_vectors <- function(v1, v2, paired = FALSE){\n",
    "  p.val = t.test(v1, v2, paired = paired)\n",
    "  print(p.val)\n",
    "  \n",
    "  log2FC = log( mean(v1 + 0.000000000001)/mean(v2 + 0.000000000001) ) / log(2)\n",
    "  print(log2FC)\n",
    "}"
   ]
  },
  {
   "cell_type": "code",
   "execution_count": 32,
   "id": "f5667d76-cb5d-4ebc-aa82-c01c312bf92e",
   "metadata": {},
   "source": [
    "# How to test the statistical equivalence of two sets using Fisher's effect test ver 1\n",
    "\n",
    "total.gene <- 32285\n",
    "ST <- 31\n",
    "scRNAseq <- 14\n",
    "cross <- 5\n",
    "\n",
    "a <- cross\n",
    "b <- scRNAseq - a\n",
    "c <- ST - a\n",
    "d <- total.gene - a - b - c\n",
    "A <- a + b\n",
    "B <- c + d\n",
    "C <- a + c\n",
    "D <- b + d\n",
    "\n",
    "group<-c(\"A\",\"A\",\"B\",\"B\")\n",
    "cancer<-c(\"1.Yes\",\"2.No\",\"1.Yes\",\"2.No\")\n",
    "count<-c(a,b,c,d)\n",
    "dat<-data.frame(group,cancer,count)\n",
    "tab<-xtabs(count~group+cancer,data=dat)\n",
    "tab\n",
    "\n",
    "chisq.test(tab)$observed\n",
    "chisq.test(tab)$expected\n",
    "fisher.test(tab)\n",
    "-log(fisher.test(tab)$p.value, 10)\n",
    "\n",
    "if(cross > ST * scRNAseq / total.gene){\n",
    "  print(\"Enrichment\")\n",
    "} else if(cross < ST * scRNAseq / total.gene){\n",
    "  print(\"Depletion\")\n",
    "}\n"
   ]
  },
  {
   "cell_type": "code",
   "execution_count": 33,
   "id": "087e9fdf-9efd-47f0-8d39-d06f52e196d1",
   "metadata": {},
   "outputs": [],
   "source": [
    "# How to test the statistical equivalence of two sets using Fisher's effect test ver. 2\n",
    "\n",
    "my.Fisher.exact.test <- function(total, A, B, cross){\n",
    "  a1 <- log10_factorial(A)\n",
    "  a2 <- log10_factorial(total - A)\n",
    "  a3 <- log10_factorial(B)\n",
    "  a4 <- log10_factorial(total - B)\n",
    "\n",
    "  b1 <- log10_factorial(cross)\n",
    "  b2 <- log10_factorial(A - cross)\n",
    "  b3 <- log10_factorial(B - cross)\n",
    "  b4 <- log10_factorial(total - cross - (A - cross) - (B - cross))\n",
    "  b5 <- log10_factorial(total)\n",
    "\n",
    "  out = a1 + a2 + a3 + a4 - b1 - b2 - b3 - b4 - b5\n",
    "  return(10^out)\n",
    "}"
   ]
  },
  {
   "cell_type": "markdown",
   "id": "3063ff51-054b-4e83-8663-3a0b48330bc3",
   "metadata": {},
   "source": [
    "* Seurat Object"
   ]
  },
  {
   "cell_type": "code",
   "execution_count": 34,
   "id": "5da7fa55-297c-4ae7-8e8c-4a2894a103fc",
   "metadata": {},
   "outputs": [],
   "source": [
    "# Change the name of the Seurat object gene: Need to create a new object \n",
    "# Refer to https://github.com/satijalab/seurat/issues/2617\n",
    "\n",
    "# RenameGenesSeurat  ------------------------------------------------------------------------------------\n",
    "RenameGenesSeurat <- function(obj = ls.Seurat[[i]], newnames = HGNC.updated[[i]]$Suggested.Symbol) { # Replace gene names in different slots of a Seurat object. Run this before integration. Run this before integration. It only changes obj@assays$RNA@counts, @data and @scale.data.\n",
    "  print(\"Run this before integration. It only changes obj@assays$RNA@counts, @data and @scale.data.\")\n",
    "  RNA <- obj@assays$RNA\n",
    "\n",
    "  if (nrow(RNA) == length(newnames)) {\n",
    "    if (length(RNA@counts)) RNA@counts@Dimnames[[1]]            <- newnames\n",
    "    if (length(RNA@data)) RNA@data@Dimnames[[1]]                <- newnames\n",
    "    if (length(RNA@scale.data)) RNA@scale.data@Dimnames[[1]]    <- newnames\n",
    "  } else {\"Unequal gene sets: nrow(RNA) != nrow(newnames)\"}\n",
    "  obj@assays$RNA <- RNA\n",
    "  return(obj)\n",
    "}\n",
    "# RenameGenesSeurat(obj = SeuratObj, newnames = HGNC.updated.genes)"
   ]
  },
  {
   "cell_type": "code",
   "execution_count": 35,
   "id": "bd4fa57f-04db-4370-8ce7-674789744a1c",
   "metadata": {},
   "outputs": [],
   "source": [
    "# Change cluster information ver. 1\n",
    "\n",
    "update_cluster_in_seurat_obj <- function(seurat_obj, barcode, cluster){\n",
    "\n",
    "  # dim(seurat_obj)[1] = length(barcode) = length(cluster)\n",
    "  mat <- matrix(0, nrow = length(barcode), ncol = 2)\n",
    "  mat[, 1] = barcode\n",
    "  mat[, 2] = cluster\n",
    "  mat = as.data.frame(mat)\n",
    "  rownames(mat) = barcode\n",
    "\n",
    "  seurat_obj@meta.data$orig.ident = mat[rownames(seurat_obj@meta.data), 2]\n",
    "  # you may need to modify the above code\n",
    "  seurat_obj@active.ident = as.factor(seurat_obj@meta.data$orig.ident)\n",
    "  \n",
    "  return (seurat_obj)\n",
    "}"
   ]
  },
  {
   "cell_type": "code",
   "execution_count": 40,
   "id": "1d9a3410-6bd9-4bf3-af8a-37e8e9b77dd8",
   "metadata": {},
   "outputs": [],
   "source": [
    "# Change cluster information ver. 2\n",
    "# Refer to https://github.com/satijalab/seurat/issues/1314\n",
    "\n",
    "Idents(object = object) <- \"orig.ident\"\n",
    "FindMarkers(object = object, ...)\n"
   ]
  },
  {
   "cell_type": "code",
   "execution_count": 41,
   "id": "c3c9b7e1-ffa6-4bf6-af65-17e34fb6ac39",
   "metadata": {},
   "outputs": [],
   "source": [
    "# A function of obtaining DEG for a particular meta data, such as 'orig.ident'\n",
    "# Refer to https://github.com/satijalab/seurat/issues/1314\n",
    "\n",
    "FindMarkers(object = object, group.by = 'orig.ident', ...)"
   ]
  },
  {
   "cell_type": "markdown",
   "id": "dab8f588-ef22-4ba6-9cb5-592f5b30135c",
   "metadata": {},
   "source": [
    "* Plotting"
   ]
  },
  {
   "cell_type": "code",
   "execution_count": 42,
   "id": "35d830ad-e33d-4510-9eae-4e506290bb8e",
   "metadata": {},
   "outputs": [],
   "source": [
    "# A function that draws the confidence interval between the scatter plot and the slope given x and y\n",
    "\n",
    "library(ggplot2)\n",
    "\n",
    "scatter_plot <- function(x, y, xlab = \"x\", ylab = \"y\", point_size = 2, lab_size = 4, png=TRUE){\n",
    "  # the lenth(x) must be same with the length(y)\n",
    "  mat <- matrix(0, nrow = length(x), ncol = 2)\n",
    "  mat[, 1] = x\n",
    "  mat[, 2] = y\n",
    "  colnames(mat) = c(xlab, ylab)\n",
    "  mat <- as.data.frame(mat)\n",
    "\n",
    "  if(png){\n",
    "    png(\"./scatter_plot.png\",width=2000,height=2000,res=500)\n",
    "    ggplot(mat, aes(x=x, y=y)) + geom_point(shape=19, size=point_size, color=\"blue\") + theme(plot.background = element_blank(),   panel.grid.major = element_blank(), panel.grid.minor = element_blank(),panel.background = element_blank(), axis.line = element_line(size =1)) +   stat_smooth(method = lm, level=.95, color=\"grey\") + labs(x=xlab, y=ylab, size=lab_size)\n",
    "    dev.off()\n",
    "  } else{\n",
    "    ggplot(mat, aes(x=x, y=y)) + geom_point(shape=19, size=point_size, color=\"blue\") + theme(plot.background = element_blank(),   panel.grid.major = element_blank(), panel.grid.minor = element_blank(),panel.background = element_blank(), axis.line = element_line(size =1)) +   stat_smooth(method = lm, level=.95, color=\"grey\") + labs(x=xlab, y=ylab, size=lab_size)\n",
    "  }\n",
    "}"
   ]
  },
  {
   "cell_type": "code",
   "execution_count": 43,
   "id": "88b5a959-330e-4b47-bf81-6b07ddc5831f",
   "metadata": {},
   "outputs": [],
   "source": [
    "# A function that draws a Spatial FeaturePlot when x, y, and color are given\n",
    "\n",
    "my.plot <- function(x, y, col){\n",
    "  # assume that length(x) = length(y) = length(col)\n",
    "\n",
    "  plot(x_array, y_array, t=\"n\")\n",
    "  colfunc <- colorRampPalette(c(\"#000000\", \"#EB4600\", \"#FFF800\"))\n",
    "  \n",
    "  coll = array(dim = length(col))\n",
    "  for(i in 1 : length(col)){\n",
    "    coll[i] <- colfunc(100) [as.integer( col[i] / max(col) * 99 + 1)] \n",
    "  }\n",
    "  \n",
    "  text(x, y, labels = \"*\", col = coll, cex = 1)\n",
    "}"
   ]
  },
  {
   "cell_type": "code",
   "execution_count": 44,
   "id": "9d2e688e-0321-4bc8-a723-01fdebf8745f",
   "metadata": {},
   "outputs": [],
   "source": [
    "# Spatial feature plot\n",
    "\n",
    "library(Seurat)\n",
    "library(SeuratData)\n",
    "library(ggplot2)\n",
    "library(cowplot)\n",
    "library(dplyr)\n",
    "\n",
    "# tissue_dir : the directory that contains a filtered_feature_bc_matrix.h5\n",
    "tissue_dir <- './outs/' \n",
    "\n",
    "# Tgenes : genes of interest\n",
    "Tgenes <- c('Slc2a1', 'Slc2a3')\n",
    "\n",
    "conv_spatial_feature_plot <- function(tissue_dir, Tgenes, quality.control = FALSE){\n",
    "  # reference : https://nbisweden.github.io/workshop-scRNAseq/labs/compiled/seurat/seurat_07_spatial.html\n",
    "  \n",
    "  br.sp = Load10X_Spatial(tissue_dir, slice= 'slice1')\n",
    "  br.sp <- SCTransform(br.sp, assay = \"Spatial\", verbose = FALSE, variable.features.n = 1000)\n",
    "\n",
    "  if(quality.control){\n",
    "    br.sp <- PercentageFeatureSet(br.sp, \"^mt-\", col.name = \"percent_mito\")\n",
    "    br.sp <- PercentageFeatureSet(br.sp, \"^Hb.*-\", col.name = \"percent_hb\")\n",
    "    br.sp <- br.sp[, br.sp$nFeature_Spatial > 500 & br.sp$percent_mito < 25 & br.sp$percent_hb < 20]\n",
    "  }\n",
    "\n",
    "  SpatialFeaturePlot(br.sp, features = Tgenes)\n",
    "}\n",
    "\n",
    "conv_spatial_feature_plot(tissue_dir, Tgenes)"
   ]
  },
  {
   "cell_type": "code",
   "execution_count": 45,
   "id": "7a6e50ae-eca1-4076-b39a-cde340635a0f",
   "metadata": {},
   "outputs": [],
   "source": [
    "# Enhanced volcano plot given gain.list, log FC value vector, and adjusted p value value vector\n",
    "\n",
    "install.packages(\"BiocManager\")\n",
    "library(EnhancedVolcano)\n",
    "\n",
    "my.EnhancedVolcano <- function(gene.name, logFC, adj.P.Val, \n",
    "                               pCutoff = 0.05, FCcutoff = 0.3,\n",
    "                               xlim = c(-0.5, 0.5), ylim = c(-0.5, 0.5)){\n",
    "  tested <- matrix(0, nrow = length(gene.name), ncol = 2)\n",
    "  tested <- as.data.frame(tested)\n",
    "  for(i in 1:length(gene.name)){\n",
    "    tested[i, 1] <- logFC[i]\n",
    "    tested[i, 2] <- adj.P.Val[i]\n",
    "  }\n",
    "  rownames(tested) <- gene.name\n",
    "  colnames(tested) <- c('logFC', 'adj.P.Val')\n",
    "\n",
    "  EnhancedVolcano(tested, lab = rownames(tested), \n",
    "                  x='logFC', y='adj.P.Val', xlim = xlim, ylim = ylim, \n",
    "                  pCutoff = pCutoff, FCcutoff = FCcutoff) \n",
    "}"
   ]
  },
  {
   "cell_type": "code",
   "execution_count": 47,
   "id": "d4d9a806-2c39-48e5-820e-503af1c70282",
   "metadata": {},
   "outputs": [],
   "source": [
    "# How to find the gene ontology (GO) from the gene list\n",
    "\n",
    "library(EnhancedVolcano)\n",
    "library(clusterProfiler)\n",
    "library(org.Hs.eg.db)\n",
    "library(org.Mm.eg.db)\n",
    "library(enrichplot)\n",
    "\n",
    "GO <- function(gene){\n",
    "    # ont = \"ALL\", \"BP\", \"CC\", \"MF\"\n",
    "    # showCategory is not mandatory\n",
    "\n",
    "    gene <- gsub(\"GRCh38\", \"\", gene) \n",
    "    gene <- gsub(\"mm10\", \"\", gene) \n",
    "    for(i in 1:10){\n",
    "  \t  gene <- gsub(\"-\", \"\", gene) \n",
    "    }\n",
    "    gene <- gsub('\\\\ .*$', '', gene)  \n",
    "    \n",
    "    if (gene == toupper(gene)){ ## Human gene\n",
    "        gene.df <- bitr(gene, fromType = \"SYMBOL\", toType = \"ENTREZID\", OrgDb = org.Hs.eg.db)\n",
    "        gene.df <- as.vector(gene.df[[2]])\n",
    "        GO <- enrichGO(gene.df, OrgDb = 'org.Hs.eg.db',keyType = \"ENTREZID\", ont = \"ALL\", pvalueCutoff = 0.05, pAdjustMethod = \"BH\")\n",
    "        dotplot(GO,split=\"ONTOLOGY\", showCategory = 5)+facet_grid(ONTOLOGY~., scale=\"free\")\n",
    "    } else{ ## Mouse gene?\n",
    "        gene.df <- bitr(gene, fromType = \"SYMBOL\", toType = \"ENTREZID\", OrgDb = org.Mm.eg.db)\n",
    "        gene.df <- as.vector(gene.df[[2]])\n",
    "        GO <- enrichGO(gene.df, OrgDb = 'org.Mm.eg.db',keyType = \"ENTREZID\", ont = \"ALL\", pvalueCutoff = 0.05, pAdjustMethod = \"BH\")\n",
    "        dotplot(GO,split=\"ONTOLOGY\", showCategory = 5)+facet_grid(ONTOLOGY~., scale=\"free\")\n",
    "    }\n",
    "}"
   ]
  },
  {
   "cell_type": "code",
   "execution_count": 50,
   "id": "de7a3527-d27d-41e4-8377-cc54c9d9e157",
   "metadata": {},
   "outputs": [],
   "source": [
    "# Violin plot with statistical analysis\n",
    "\n",
    "VlnPlot(object = br.sp, features = c('Col1a1'),\n",
    "        group.by = 'orig.ident', pt.size = 0.1) + \n",
    "    \tfacet_grid(.~tnbc.merge@active.ident)+\n",
    "    \tfill_palette(palette='npg')+\n",
    "    \tstat_compare_means(method = \"anova\", label='p')+\n",
    "    \ttheme(axis.text.x = element_text(angle = 90, hjust = 1),\n",
    "    \tstrip.text.x = element_text(size = rel(0.7)))"
   ]
  }
 ],
 "metadata": {
  "kernelspec": {
   "display_name": "R",
   "language": "R",
   "name": "ir"
  },
  "language_info": {
   "codemirror_mode": "r",
   "file_extension": ".r",
   "mimetype": "text/x-r-source",
   "name": "R",
   "pygments_lexer": "r",
   "version": "4.0.5"
  }
 },
 "nbformat": 4,
 "nbformat_minor": 5
}
