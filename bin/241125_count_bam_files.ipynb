{
 "cells": [
  {
   "cell_type": "code",
   "execution_count": 1,
   "id": "c12d180c-ff4a-44c4-a965-feab1ac48b35",
   "metadata": {},
   "outputs": [],
   "source": [
    "import pysam\n",
    "\n",
    "def count_reads_by_strain(bam_file, strain_mapping):\n",
    "    \"\"\"\n",
    "    Count reads mapped to each strain based on tags.\n",
    "\n",
    "    Args:\n",
    "        bam_file (str): Path to the BAM file.\n",
    "        strain_mapping (dict): Mapping of strain to tags.\n",
    "\n",
    "    Returns:\n",
    "        dict: Counts of reads for each strain.\n",
    "    \"\"\"\n",
    "    counts = {strain: 0 for strain in strain_mapping.keys()}\n",
    "    total_reads = 0\n",
    "\n",
    "    with pysam.AlignmentFile(bam_file, \"rb\") as bam:\n",
    "        for read in bam:\n",
    "            total_reads += 1\n",
    "            if not read.is_unmapped:\n",
    "                # Check tags and assign read to a strain\n",
    "                for strain, mapping in strain_mapping.items():\n",
    "                    tag = mapping[\"tag\"]  # Extract the tag name\n",
    "                    if read.has_tag(tag) and read.get_tag(tag) in mapping[\"values\"]:\n",
    "                        counts[strain] += 1\n",
    "                        break  # Avoid double counting\n",
    "\n",
    "    return counts, total_reads\n"
   ]
  },
  {
   "cell_type": "code",
   "execution_count": 2,
   "id": "63c8f03b-6aaf-4446-9330-37ddc9e77e3e",
   "metadata": {},
   "outputs": [
    {
     "name": "stdout",
     "output_type": "stream",
     "text": [
      "Total reads in BAM file: 2887870\n",
      "CASTEiJ - Mapped Reads: 2869592 (99.37%)\n",
      "129S1 - Mapped Reads: 0 (0.00%)\n"
     ]
    }
   ],
   "source": [
    "# Define BAM file and strain mapping\n",
    "bam_file = \"final_best_alignments.bam\"\n",
    "\n",
    "# Example mapping of strain to tags\n",
    "strain_mapping = {\n",
    "    \"CASTEiJ\": {\"tag\": \"ct\", \"values\": [\"U\"]},  # Replace \"U\" with actual values if needed\n",
    "    \"129S1\": {\"tag\": \"ct\", \"values\": [\"U\"]},    # Replace with appropriate tags/values\n",
    "}\n",
    "\n",
    "# Count reads\n",
    "counts, total_reads = count_reads_by_strain(bam_file, strain_mapping)\n",
    "\n",
    "# Print results\n",
    "print(f\"Total reads in BAM file: {total_reads}\")\n",
    "for strain, count in counts.items():\n",
    "    fraction = (count / total_reads) * 100 if total_reads > 0 else 0\n",
    "    print(f\"{strain} - Mapped Reads: {count} ({fraction:.2f}%)\")\n"
   ]
  },
  {
   "cell_type": "code",
   "execution_count": null,
   "id": "930f50e3-066e-4a07-85e0-22f24ad8bebf",
   "metadata": {},
   "outputs": [],
   "source": []
  },
  {
   "cell_type": "code",
   "execution_count": null,
   "id": "f3946587-1ea0-4dba-9a07-cfed9fc18988",
   "metadata": {},
   "outputs": [],
   "source": []
  },
  {
   "cell_type": "code",
   "execution_count": null,
   "id": "cf34addc-e2ad-4452-a0e6-05b9d0489ca8",
   "metadata": {},
   "outputs": [],
   "source": []
  },
  {
   "cell_type": "code",
   "execution_count": 3,
   "id": "e8d258c9-2b77-4643-b944-2489a2b3ef04",
   "metadata": {},
   "outputs": [
    {
     "name": "stdout",
     "output_type": "stream",
     "text": [
      "Final BAM file - 'po' tag counts:\n",
      "Counter({3: 2240669, 1: 324182, 2: 323019})\n",
      "Final BAM file - 'ct' tag counts:\n",
      "Counter({'U': 2869592, 'R': 13728, 'Q': 4550})\n",
      "Common reads: 77.59%\n",
      "Maternal reads: 11.23%\n",
      "Paternal reads: 11.19%\n"
     ]
    }
   ],
   "source": [
    "import pysam\n",
    "from collections import Counter\n",
    "\n",
    "def analyze_tags(bam_file):\n",
    "    \"\"\"\n",
    "    Analyze the 'po' and 'ct' tags in a BAM file.\n",
    "\n",
    "    Args:\n",
    "        bam_file (str): Path to the BAM file.\n",
    "\n",
    "    Returns:\n",
    "        dict: Counts of 'po' and 'ct' tags.\n",
    "    \"\"\"\n",
    "    po_counts = Counter()\n",
    "    ct_counts = Counter()\n",
    "\n",
    "    with pysam.AlignmentFile(bam_file, \"rb\") as bam:\n",
    "        for read in bam:\n",
    "            if read.has_tag(\"po\"):\n",
    "                po_counts[read.get_tag(\"po\")] += 1\n",
    "            if read.has_tag(\"ct\"):\n",
    "                ct_counts[read.get_tag(\"ct\")] += 1\n",
    "\n",
    "    return {\"po\": po_counts, \"ct\": ct_counts}\n",
    "\n",
    "# BAM \bfile path\n",
    "final_bam = \"final_best_alignments.bam\"\n",
    "\n",
    "# Final BAM file's tag analysis\n",
    "final_tags = analyze_tags(final_bam)\n",
    "\n",
    "# Output result \n",
    "print(\"Final BAM file - 'po' tag counts:\")\n",
    "print(final_tags[\"po\"])\n",
    "print(\"Final BAM file - 'ct' tag counts:\")\n",
    "print(final_tags[\"ct\"])\n",
    "\n",
    "# Calculate total read numbers and the ratio \n",
    "total_reads = sum(final_tags[\"po\"].values())\n",
    "common_percentage = (final_tags[\"po\"].get(3, 0) / total_reads) * 100\n",
    "maternal_percentage = (final_tags[\"po\"].get(2, 0) / total_reads) * 100\n",
    "paternal_percentage = (final_tags[\"po\"].get(1, 0) / total_reads) * 100\n",
    "\n",
    "print(f\"Common reads: {common_percentage:.2f}%\")\n",
    "print(f\"Maternal reads: {paternal_percentage:.2f}%\")\n",
    "print(f\"Paternal reads: {maternal_percentage:.2f}%\")"
   ]
  },
  {
   "cell_type": "code",
   "execution_count": null,
   "id": "49c05a32-1e85-440b-98d5-64a41e6d902d",
   "metadata": {},
   "outputs": [],
   "source": []
  },
  {
   "cell_type": "code",
   "execution_count": 4,
   "id": "4f6cc49a-d91c-423b-b2e0-20333b9f3545",
   "metadata": {},
   "outputs": [
    {
     "name": "stdout",
     "output_type": "stream",
     "text": [
      "Chromosome read counts (sorted):\n",
      "chr1: 57897 reads\n",
      "chr2: 65206 reads\n",
      "chr3: 1932539 reads\n",
      "chr4: 64180 reads\n",
      "chr5: 59283 reads\n",
      "chr6: 51023 reads\n",
      "chr7: 56044 reads\n",
      "chr8: 51159 reads\n",
      "chr9: 60331 reads\n",
      "chr10: 39979 reads\n",
      "chr11: 73024 reads\n",
      "chr12: 49336 reads\n",
      "chr13: 49135 reads\n",
      "chr14: 42524 reads\n",
      "chr15: 47278 reads\n",
      "chr16: 39905 reads\n",
      "chr17: 46862 reads\n",
      "chr18: 32651 reads\n",
      "chr19: 34716 reads\n",
      "chrX: 34733 reads\n",
      "chrY: 65 reads\n"
     ]
    }
   ],
   "source": [
    "import pysam\n",
    "from collections import Counter\n",
    "import re\n",
    "\n",
    "def count_reads_by_chromosome(bam_file):\n",
    "    \"\"\"\n",
    "    Count reads by chromosome in a BAM file and sort them in natural order.\n",
    "\n",
    "    Args:\n",
    "        bam_file (str): Path to the BAM file.\n",
    "\n",
    "    Returns:\n",
    "        dict: Counts of reads for each chromosome, sorted in natural order.\n",
    "    \"\"\"\n",
    "    chr_counts = Counter()\n",
    "\n",
    "    with pysam.AlignmentFile(bam_file, \"rb\") as bam:\n",
    "        for read in bam:\n",
    "            # Only count primary alignments\n",
    "            if not read.is_secondary and not read.is_supplementary:\n",
    "                chr_counts[read.reference_name] += 1\n",
    "\n",
    "    # Custom sorting for chromosome names\n",
    "    def sort_key(chrom):\n",
    "        match = re.match(r'chr(\\d+|[A-Za-z]+)', chrom)\n",
    "        if match:\n",
    "            key = match.group(1)\n",
    "            return (0, int(key)) if key.isdigit() else (1, key)\n",
    "        return (2, chrom)\n",
    "\n",
    "    sorted_chr_counts = dict(sorted(chr_counts.items(), key=lambda x: sort_key(x[0])))\n",
    "\n",
    "    return sorted_chr_counts\n",
    "\n",
    "# BAM 파일 경로\n",
    "final_bam = \"final_best_alignments.bam\"\n",
    "\n",
    "# 염색체별 read 수 정렬 후 계산\n",
    "chromosome_counts = count_reads_by_chromosome(final_bam)\n",
    "\n",
    "# 결과 출력\n",
    "print(\"Chromosome read counts (sorted):\")\n",
    "for chromosome, count in chromosome_counts.items():\n",
    "    print(f\"{chromosome}: {count} reads\")\n"
   ]
  },
  {
   "cell_type": "code",
   "execution_count": null,
   "id": "8bbafd71-7013-4ab7-b5d9-ff5c7047b4c6",
   "metadata": {},
   "outputs": [],
   "source": []
  },
  {
   "cell_type": "code",
   "execution_count": null,
   "id": "ed111732-8133-4da7-b33b-2dcc50a9a2cb",
   "metadata": {},
   "outputs": [],
   "source": []
  }
 ],
 "metadata": {
  "kernelspec": {
   "display_name": "Python 3 (ipykernel)",
   "language": "python",
   "name": "python3"
  },
  "language_info": {
   "codemirror_mode": {
    "name": "ipython",
    "version": 3
   },
   "file_extension": ".py",
   "mimetype": "text/x-python",
   "name": "python",
   "nbconvert_exporter": "python",
   "pygments_lexer": "ipython3",
   "version": "3.8.18"
  }
 },
 "nbformat": 4,
 "nbformat_minor": 5
}
