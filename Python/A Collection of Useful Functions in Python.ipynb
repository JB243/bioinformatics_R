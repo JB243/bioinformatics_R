{
 "cells": [
  {
   "cell_type": "markdown",
   "id": "3992d774-c833-46e7-a0d5-c9e1618c2530",
   "metadata": {},
   "source": [
    "* Overview"
   ]
  },
  {
   "cell_type": "code",
   "execution_count": null,
   "id": "c15ef680-a665-424d-8c6c-99f9646ebd91",
   "metadata": {},
   "outputs": [],
   "source": [
    "# The functions defined below can be used as follows\n",
    "\n",
    "def SUM(a, b):\n",
    "    return a+b\n",
    "\n",
    "SUM(1,2)\n",
    "# 3"
   ]
  },
  {
   "cell_type": "markdown",
   "id": "3c0a0cb5-6877-4990-836f-a1d9e1d414e3",
   "metadata": {},
   "source": [
    "* Basics"
   ]
  },
  {
   "cell_type": "code",
   "execution_count": null,
   "id": "1d1068a5-6e2b-4595-91ea-e061b0231c33",
   "metadata": {},
   "outputs": [],
   "source": [
    "# Type check\n",
    "\n",
    "type(x)"
   ]
  },
  {
   "cell_type": "code",
   "execution_count": null,
   "id": "afd893f4-0c4b-4945-b5a9-f9c21d7c2264",
   "metadata": {},
   "outputs": [],
   "source": [
    "# The length of an array\n",
    "\n",
    "len(x)"
   ]
  },
  {
   "cell_type": "code",
   "execution_count": null,
   "id": "f3db25fd-2373-4ab4-906e-ce8ff3aa1628",
   "metadata": {},
   "outputs": [],
   "source": [
    "#  Whether a given string (given_str) contains a particular string (partial_str)\n",
    "\n",
    "a = \"ABCD\"\n",
    "\n",
    "a.startswith('AB')\n",
    "# TRUE\n",
    "\n",
    "''' if a is not string object\n",
    "a.str.startswith('AB')\n",
    "# TRUE\n",
    "'''"
   ]
  },
  {
   "cell_type": "code",
   "execution_count": null,
   "id": "d7e48763-2f67-4fd5-a11a-a8cca4a6daf6",
   "metadata": {},
   "outputs": [],
   "source": [
    "# A function that removes the first few characters from a given string (str) and returns them\n",
    "\n",
    "def str_omit_forward(_str, n):\n",
    "    s = ''\n",
    "    count = 0\n",
    "    for char in _str:\n",
    "        count = count + 1\n",
    "        if count > n:\n",
    "            s = s + char\n",
    "    return s"
   ]
  },
  {
   "cell_type": "code",
   "execution_count": null,
   "id": "c23eaab5-5c1e-4142-947c-acdb81c3ccc9",
   "metadata": {},
   "outputs": [],
   "source": [
    "#  A function that removes and returns several characters from a given string (str)\n",
    "\n",
    "def str_omit_backward(_str, n):\n",
    "    s = ''\n",
    "    count = 0\n",
    "    for char in _str:\n",
    "        count = count + 1\n",
    "        if count <= len(_str) - n:\n",
    "            s = s + char\n",
    "    return s"
   ]
  },
  {
   "cell_type": "code",
   "execution_count": null,
   "id": "623ff918-64ee-4619-8225-cb691b9c1c37",
   "metadata": {},
   "outputs": [],
   "source": [
    "# Whether the given element (e) is included in the list (l)\n",
    "\n",
    "def is_element_in_list(e, l):\n",
    "    for i in range(len(l)):\n",
    "        if e == l[i]:\n",
    "            return True\n",
    "    return False"
   ]
  },
  {
   "cell_type": "code",
   "execution_count": null,
   "id": "b6a3f7c1-9aa3-4d7d-a154-147722cb58b1",
   "metadata": {},
   "outputs": [],
   "source": [
    "# A function that outputs the number of elements in a given element (e) in a list (l)\n",
    "\n",
    "def where_element_in_list(e, l):\n",
    "    for i in range(len(l)):\n",
    "        if e == l[i]:\n",
    "            return i\n",
    "    return -1"
   ]
  },
  {
   "cell_type": "markdown",
   "id": "3b2cd9c5-0343-4068-ba42-1664aa3be0ec",
   "metadata": {},
   "source": [
    "* File input and output"
   ]
  },
  {
   "cell_type": "code",
   "execution_count": null,
   "id": "5896bde2-173b-4814-a98d-215692df2534",
   "metadata": {},
   "outputs": [],
   "source": [
    "# Read text file\n",
    "\n",
    "import csv\n",
    "import sys\n",
    "\n",
    "def read_txt(txt_dir):\n",
    "    l = []\n",
    "    f = open(txt_dir, 'r', encoding = 'utf-8')\n",
    " \n",
    "    for line in csv.reader(f):\n",
    "        ### if you want elements of list ###\n",
    "        l.append(line) \n",
    "\t\t\n",
    "        ### if you want elements of str ###\n",
    "        # l.append(''.join(line)) \n",
    "    \n",
    "    f.close()\n",
    "    return l"
   ]
  },
  {
   "cell_type": "markdown",
   "id": "cb9f71e4-07f3-4f07-b488-d8413495f0f5",
   "metadata": {},
   "source": [
    "* Image processing"
   ]
  },
  {
   "cell_type": "code",
   "execution_count": null,
   "id": "b01beb10-f800-4d30-9606-69c7fd56efe4",
   "metadata": {},
   "outputs": [],
   "source": [
    "# Correlation of two images\n",
    "\n",
    "import cv2\n",
    "import matplotlib.pyplot as plt\n",
    "from skimage.util import view_as_windows\n",
    "import numpy as np\n",
    "import scipy.stats\n",
    "\n",
    "def two_image_correlation(img1_dir, img2_dir):\n",
    "\t\n",
    "    # img1 and img2 should be same in size\n",
    "    img1 = cv2.imread(img1_dir) # RGB image\n",
    "    img1 = cv2.cvtColor(img1, cv2.COLOR_BGR2RGB)\n",
    "    img2 = cv2.imread(img2_dir) # RGB image\n",
    "    img2 = cv2.cvtColor(img2, cv2.COLOR_BGR2RGB)\n",
    "\t\t\n",
    "    l_img1 = []\n",
    "    l_img2 = []\n",
    "\t\t\n",
    "    for i in range(img1.shape[0]):\n",
    "        for j in range(img1.shape[1]):\n",
    "            l_img1.append((\n",
    "                0.2989*img1[i:i+1, j:j+1, 0:1] + \n",
    "                0.5870*img1[i:i+1, j:j+1, 1:2] + \n",
    "                0.1140*img1[i:i+1, j:j+1, 2:3]\n",
    "            ).item())\n",
    "\t\t        \n",
    "            l_img2.append((\n",
    "                0.2989*img2[i:i+1, j:j+1, 0:1] + \n",
    "                0.5870*img2[i:i+1, j:j+1, 1:2] + \n",
    "                0.1140*img2[i:i+1, j:j+1, 2:3]\n",
    "            ).item())\n",
    "\t\t\n",
    "    print(\"brightness of img1\")\n",
    "    print(np.mean(l_img1))\n",
    "    print(\"brightness of img2\")\n",
    "    print(np.mean(l_img2))\n",
    "\t\t\n",
    "    print(\"img1-img2 correlation\")\n",
    "    print(scipy.stats.pearsonr(l_img1, l_img2) )\n",
    "\t\t\n",
    "    plt.scatter(l_img1, l_img2, alpha = 0.05)\n",
    "    plt.xlabel('brightness of img1')\n",
    "    plt.ylabel('brightness of img2')\n",
    "    # sns.regplot(l_b_CD31, l_b_Lipo, alpha = 0.05)"
   ]
  }
 ],
 "metadata": {
  "kernelspec": {
   "display_name": "Python 3 (ipykernel)",
   "language": "python",
   "name": "python3"
  },
  "language_info": {
   "codemirror_mode": {
    "name": "ipython",
    "version": 3
   },
   "file_extension": ".py",
   "mimetype": "text/x-python",
   "name": "python",
   "nbconvert_exporter": "python",
   "pygments_lexer": "ipython3",
   "version": "3.7.13"
  }
 },
 "nbformat": 4,
 "nbformat_minor": 5
}
